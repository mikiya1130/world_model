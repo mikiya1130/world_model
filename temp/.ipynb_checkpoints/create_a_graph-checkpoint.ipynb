{
 "cells": [
  {
   "cell_type": "code",
   "execution_count": 66,
   "id": "3c392550",
   "metadata": {},
   "outputs": [
    {
     "name": "stdout",
     "output_type": "stream",
     "text": [
      "[666, 1257, 1258, 1259, 1260, 1261, 1262, 1263, 1264, 1265, 1266, 1267, 1268, 1269, 1270, 1271, 1272, 1273]\n",
      "[654, 1169, 1170, 1171, 1172, 1173, 1174, 1175, 1176, 703, 1177, 1178, 1179, 1180, 1181, 1182, 1183, 752]\n",
      "[666, 665, 664, 663, 662, 661, 660, 659, 658, 657, 656, 655, 654]\n",
      "[1265, 716, 715, 714, 713, 712, 711, 710, 709, 708, 707, 706, 705, 704, 703]\n",
      "[1273, 765, 764, 763, 762, 761, 760, 759, 758, 757, 756, 755, 754, 753, 752]\n"
     ]
    }
   ],
   "source": [
    "print(uenohen)\n",
    "print(shitanohen)\n",
    "print(tate1)\n",
    "print(tate2)\n",
    "print(tate3)"
   ]
  },
  {
   "cell_type": "code",
   "execution_count": 67,
   "id": "5397140b",
   "metadata": {},
   "outputs": [],
   "source": [
    "def print_graph(data, direction_1, direction_2):\n",
    "    n = len(data)\n",
    "    for i in range(n-1):\n",
    "        print(data[i], data[(i+1)], direction_1)\n",
    "    for i in range(n):\n",
    "        if i == 0:\n",
    "            continue\n",
    "        print(data[-i], data[-(i+1)], direction_2)"
   ]
  },
  {
   "cell_type": "code",
   "execution_count": 60,
   "id": "6b156c71",
   "metadata": {},
   "outputs": [],
   "source": [
    "# print_graph(uenohen, 1, 3)\n",
    "# print_graph(shitanohen, 1, 3)\n",
    "# print_graph(tate1, 2, 0)\n",
    "# print_graph(tate2, 2, 0)\n",
    "# print_graph(tate3, 2, 0)"
   ]
  },
  {
   "cell_type": "code",
   "execution_count": 53,
   "id": "1c51491e",
   "metadata": {},
   "outputs": [
    {
     "data": {
      "text/plain": [
       "73"
      ]
     },
     "execution_count": 53,
     "metadata": {},
     "output_type": "execute_result"
    }
   ],
   "source": [
    "n = len(set(shitanohen + uenohen + tate1 + tate2 + tate3))\n",
    "n"
   ]
  },
  {
   "cell_type": "code",
   "execution_count": 61,
   "id": "b9e52888",
   "metadata": {},
   "outputs": [
    {
     "data": {
      "application/vnd.jupyter.widget-view+json": {
       "model_id": "893a88be190b43c9b9596b79c71dbb2c",
       "version_major": 2,
       "version_minor": 0
      },
      "text/plain": [
       "Textarea(value='')"
      ]
     },
     "metadata": {},
     "output_type": "display_data"
    }
   ],
   "source": [
    "\"\"\"\n",
    "使い方\n",
    "このセルを実行したら入力画面がでるのでそこにコピペして下のセルを実行してください\n",
    "\n",
    "\"\"\"\n",
    "\n",
    "from ipywidgets import Textarea\n",
    "\n",
    "def get_input(change):\n",
    "    global Input\n",
    "    Input = change[\"new\"]\n",
    "\n",
    "textarea = Textarea()\n",
    "textarea.observe(get_input, names='value')\n",
    "display(textarea)"
   ]
  },
  {
   "cell_type": "code",
   "execution_count": 63,
   "id": "de45ba2c",
   "metadata": {},
   "outputs": [],
   "source": [
    "IN = iter(Input.split('\\n')).__next__\n",
    "def input():\n",
    "    return IN()\n",
    "\n",
    "N, M = map(int, input().split())\n",
    "\n",
    "Graph = [[] for _ in range(1324)]\n",
    "\n",
    "for i in range(M):\n",
    "    a, b, direction = map(int, input().split())\n",
    "    Graph[a].append((b, direction))"
   ]
  },
  {
   "cell_type": "code",
   "execution_count": 68,
   "id": "276fd106",
   "metadata": {},
   "outputs": [],
   "source": [
    "# ここで確認できます\n",
    "Graph"
   ]
  },
  {
   "cell_type": "code",
   "execution_count": null,
   "id": "0d3cf7c1",
   "metadata": {},
   "outputs": [],
   "source": []
  },
  {
   "cell_type": "code",
   "execution_count": null,
   "id": "8e4961f4",
   "metadata": {},
   "outputs": [],
   "source": []
  }
 ],
 "metadata": {
  "kernelspec": {
   "display_name": "Python 3 (ipykernel)",
   "language": "python",
   "name": "python3"
  },
  "language_info": {
   "codemirror_mode": {
    "name": "ipython",
    "version": 3
   },
   "file_extension": ".py",
   "mimetype": "text/x-python",
   "name": "python",
   "nbconvert_exporter": "python",
   "pygments_lexer": "ipython3",
   "version": "3.9.7"
  }
 },
 "nbformat": 4,
 "nbformat_minor": 5
}
