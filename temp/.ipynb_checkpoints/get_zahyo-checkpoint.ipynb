{
 "cells": [
  {
   "cell_type": "code",
   "execution_count": 42,
   "id": "ebf8f12f",
   "metadata": {},
   "outputs": [
    {
     "name": "stdout",
     "output_type": "stream",
     "text": [
      "Using matplotlib backend: Qt5Agg\n"
     ]
    },
    {
     "data": {
      "text/plain": [
       "'%.6f'"
      ]
     },
     "execution_count": 42,
     "metadata": {},
     "output_type": "execute_result"
    }
   ],
   "source": [
    "import numpy as np\n",
    "import pandas as pd\n",
    "import matplotlib.pyplot as plt\n",
    "from scipy.spatial import distance\n",
    "\n",
    "%matplotlib\n",
    "pd.options.display.max_rows = 100\n",
    "\n",
    "%precision 6"
   ]
  },
  {
   "cell_type": "code",
   "execution_count": 43,
   "id": "70a1bfb8",
   "metadata": {},
   "outputs": [],
   "source": [
    "df = pd.read_csv('all.csv', index_col=0)\n",
    "data = df[3079:4402]"
   ]
  },
  {
   "cell_type": "code",
   "execution_count": 44,
   "id": "5c7cae6c",
   "metadata": {},
   "outputs": [],
   "source": [
    "latitude = list(data['latitude'])\n",
    "longtitude = list(data['longtitude'])"
   ]
  },
  {
   "cell_type": "code",
   "execution_count": 45,
   "id": "2d7172a5",
   "metadata": {},
   "outputs": [],
   "source": [
    "N = 1323"
   ]
  },
  {
   "cell_type": "code",
   "execution_count": 58,
   "id": "639e7e9a",
   "metadata": {},
   "outputs": [
    {
     "data": {
      "text/plain": [
       "8"
      ]
     },
     "execution_count": 58,
     "metadata": {},
     "output_type": "execute_result"
    },
    {
     "name": "stdout",
     "output_type": "stream",
     "text": [
      "1078\n",
      "1079\n",
      "1080\n",
      "1081\n",
      "1082\n",
      "1083\n",
      "1084\n",
      "690\n",
      "691\n",
      "692\n",
      "693\n",
      "694\n",
      "695\n",
      "695\n"
     ]
    }
   ],
   "source": [
    "'''\n",
    "使い方\n",
    "左クリックで座標を合わせ、あったところのindexを返す\n",
    "\n",
    "'''\n",
    "\n",
    "\n",
    "plt.rcParams['font.size']=14\n",
    "\n",
    "class SnaptoCursor(object):\n",
    "    \"\"\"\n",
    "    十字カーソルを現在のカーソルのｘ値から最も近いxの点に飛ばす。\n",
    "    \"\"\"\n",
    "\n",
    "    def __init__(self, ax, x, y):\n",
    "        self.ax = ax\n",
    "        self.lx = ax.axhline(color='g')  # the horiz line\n",
    "        self.ly = ax.axvline(color='g')  # the vert line\n",
    "        self.x = x\n",
    "        self.y = y\n",
    "        # location of point\n",
    "\n",
    "        \n",
    "    def mouse_move(self, event):\n",
    "        if not event.inaxes:\n",
    "                return\n",
    "        if event.button == 1: #左クリック\n",
    "            click_x, click_y = event.xdata, event.ydata\n",
    "            click_zahyo = [click_x, click_y]\n",
    "            min_dist = 10**18\n",
    "            index = float('inf')\n",
    "            \n",
    "            for _index in range(N):\n",
    "                data_zhayo = [self.x[_index], self.y[_index]]\n",
    "                temp_dist = distance.euclidean(click_zahyo, data_zhayo)\n",
    "                if min_dist >= temp_dist:\n",
    "                    min_dist = temp_dist\n",
    "                    index = _index\n",
    "            \n",
    "            x = self.x[index]\n",
    "            y = self.y[index]\n",
    "            \n",
    "            # update the line positions\n",
    "            self.lx.set_ydata(y)\n",
    "            self.ly.set_xdata(x)\n",
    "            #update title\n",
    "            self.ax.figure.canvas.draw()\n",
    "            \n",
    "            print(index)\n",
    "            \n",
    "#         elif event.button == 3: # 右クリック\n",
    "#             print('[%f, %f],' % (event.xdata, event.ydata))\n",
    "        \n",
    "\n",
    "\n",
    "fig,ax = plt.subplots(figsize=(8, 6))\n",
    "ax.set_xlim([28.540, 28.5450])\n",
    "ax.set_ylim([-81.3756, -81.382021])\n",
    "x, y = latitude, longtitude\n",
    "[ax.plot(x[i], y[i], 'o', mew=1, mec='k', ms=5) for i in range(len(x))]\n",
    "snap_cursor = SnaptoCursor(ax, x, y)\n",
    "fig.canvas.mpl_connect('button_press_event' , snap_cursor.mouse_move)"
   ]
  },
  {
   "cell_type": "code",
   "execution_count": 13,
   "id": "1240781e",
   "metadata": {},
   "outputs": [],
   "source": [
    "uenohen = [[28.540452, -81.379047],\n",
    "[28.540565, -81.379075],\n",
    "[28.540669, -81.379061],\n",
    "[28.540790, -81.379061],\n",
    "[28.540895, -81.379075],\n",
    "[28.541008, -81.379075],\n",
    "[28.541089, -81.379061],\n",
    "[28.541194, -81.379061]]\n",
    "28.54045"
   ]
  },
  {
   "cell_type": "code",
   "execution_count": 55,
   "id": "717539de",
   "metadata": {},
   "outputs": [
    {
     "data": {
      "text/html": [
       "<div>\n",
       "<style scoped>\n",
       "    .dataframe tbody tr th:only-of-type {\n",
       "        vertical-align: middle;\n",
       "    }\n",
       "\n",
       "    .dataframe tbody tr th {\n",
       "        vertical-align: top;\n",
       "    }\n",
       "\n",
       "    .dataframe thead th {\n",
       "        text-align: right;\n",
       "    }\n",
       "</style>\n",
       "<table border=\"1\" class=\"dataframe\">\n",
       "  <thead>\n",
       "    <tr style=\"text-align: right;\">\n",
       "      <th></th>\n",
       "      <th>latitude</th>\n",
       "      <th>longtitude</th>\n",
       "      <th>compass_direction</th>\n",
       "      <th>x</th>\n",
       "      <th>y</th>\n",
       "      <th>z</th>\n",
       "    </tr>\n",
       "  </thead>\n",
       "  <tbody>\n",
       "    <tr>\n",
       "      <th>4157</th>\n",
       "      <td>28.540463</td>\n",
       "      <td>-81.37904</td>\n",
       "      <td>356.76</td>\n",
       "      <td>838153.00556</td>\n",
       "      <td>-5.528349e+06</td>\n",
       "      <td>3.041065e+06</td>\n",
       "    </tr>\n",
       "  </tbody>\n",
       "</table>\n",
       "</div>"
      ],
      "text/plain": [
       "       latitude  longtitude  compass_direction             x             y  \\\n",
       "4157  28.540463   -81.37904             356.76  838153.00556 -5.528349e+06   \n",
       "\n",
       "                 z  \n",
       "4157  3.041065e+06  "
      ]
     },
     "execution_count": 55,
     "metadata": {},
     "output_type": "execute_result"
    }
   ],
   "source": [
    "data[1078:1079]"
   ]
  },
  {
   "cell_type": "code",
   "execution_count": 46,
   "id": "26fd9ac5",
   "metadata": {},
   "outputs": [
    {
     "name": "stdout",
     "output_type": "stream",
     "text": [
      "Empty DataFrame\n",
      "Columns: [latitude, longtitude, compass_direction, x, y, z]\n",
      "Index: []\n",
      "Empty DataFrame\n",
      "Columns: [latitude, longtitude, compass_direction, x, y, z]\n",
      "Index: []\n",
      "Empty DataFrame\n",
      "Columns: [latitude, longtitude, compass_direction, x, y, z]\n",
      "Index: []\n",
      "Empty DataFrame\n",
      "Columns: [latitude, longtitude, compass_direction, x, y, z]\n",
      "Index: []\n",
      "Empty DataFrame\n",
      "Columns: [latitude, longtitude, compass_direction, x, y, z]\n",
      "Index: []\n",
      "Empty DataFrame\n",
      "Columns: [latitude, longtitude, compass_direction, x, y, z]\n",
      "Index: []\n",
      "Empty DataFrame\n",
      "Columns: [latitude, longtitude, compass_direction, x, y, z]\n",
      "Index: []\n",
      "Empty DataFrame\n",
      "Columns: [latitude, longtitude, compass_direction, x, y, z]\n",
      "Index: []\n"
     ]
    }
   ],
   "source": [
    "index = []\n",
    "\n",
    "for i in range(len(uenohen)):\n",
    "    temp = data[(data['latitude']==uenohen[i][0]) & (data['longtitude']==uenohen[i][0])]\n",
    "    print(temp)"
   ]
  },
  {
   "cell_type": "code",
   "execution_count": 47,
   "id": "51f50e56",
   "metadata": {},
   "outputs": [
    {
     "data": {
      "text/html": [
       "<div>\n",
       "<style scoped>\n",
       "    .dataframe tbody tr th:only-of-type {\n",
       "        vertical-align: middle;\n",
       "    }\n",
       "\n",
       "    .dataframe tbody tr th {\n",
       "        vertical-align: top;\n",
       "    }\n",
       "\n",
       "    .dataframe thead th {\n",
       "        text-align: right;\n",
       "    }\n",
       "</style>\n",
       "<table border=\"1\" class=\"dataframe\">\n",
       "  <thead>\n",
       "    <tr style=\"text-align: right;\">\n",
       "      <th></th>\n",
       "      <th>latitude</th>\n",
       "      <th>longtitude</th>\n",
       "      <th>compass_direction</th>\n",
       "      <th>x</th>\n",
       "      <th>y</th>\n",
       "      <th>z</th>\n",
       "    </tr>\n",
       "  </thead>\n",
       "  <tbody>\n",
       "    <tr>\n",
       "      <th>3616</th>\n",
       "      <td>28.54045</td>\n",
       "      <td>-81.381706</td>\n",
       "      <td>357.99</td>\n",
       "      <td>837895.871307</td>\n",
       "      <td>-5.528389e+06</td>\n",
       "      <td>3.041064e+06</td>\n",
       "    </tr>\n",
       "  </tbody>\n",
       "</table>\n",
       "</div>"
      ],
      "text/plain": [
       "      latitude  longtitude  compass_direction              x             y  \\\n",
       "3616  28.54045  -81.381706             357.99  837895.871307 -5.528389e+06   \n",
       "\n",
       "                 z  \n",
       "3616  3.041064e+06  "
      ]
     },
     "execution_count": 47,
     "metadata": {},
     "output_type": "execute_result"
    }
   ],
   "source": [
    "data[(data['latitude']>=28.540450) & (data['latitude']<=28.540454)]"
   ]
  },
  {
   "cell_type": "code",
   "execution_count": 48,
   "id": "6e4696e8",
   "metadata": {},
   "outputs": [
    {
     "data": {
      "text/html": [
       "<div>\n",
       "<style scoped>\n",
       "    .dataframe tbody tr th:only-of-type {\n",
       "        vertical-align: middle;\n",
       "    }\n",
       "\n",
       "    .dataframe tbody tr th {\n",
       "        vertical-align: top;\n",
       "    }\n",
       "\n",
       "    .dataframe thead th {\n",
       "        text-align: right;\n",
       "    }\n",
       "</style>\n",
       "<table border=\"1\" class=\"dataframe\">\n",
       "  <thead>\n",
       "    <tr style=\"text-align: right;\">\n",
       "      <th></th>\n",
       "      <th>latitude</th>\n",
       "      <th>longtitude</th>\n",
       "      <th>compass_direction</th>\n",
       "      <th>x</th>\n",
       "      <th>y</th>\n",
       "      <th>z</th>\n",
       "    </tr>\n",
       "  </thead>\n",
       "  <tbody>\n",
       "    <tr>\n",
       "      <th>3079</th>\n",
       "      <td>28.544009</td>\n",
       "      <td>-81.381796</td>\n",
       "      <td>2.77</td>\n",
       "      <td>837858.879219</td>\n",
       "      <td>-5.528204e+06</td>\n",
       "      <td>3.041411e+06</td>\n",
       "    </tr>\n",
       "    <tr>\n",
       "      <th>3080</th>\n",
       "      <td>28.544141</td>\n",
       "      <td>-81.381795</td>\n",
       "      <td>2.49</td>\n",
       "      <td>837857.925720</td>\n",
       "      <td>-5.528197e+06</td>\n",
       "      <td>3.041424e+06</td>\n",
       "    </tr>\n",
       "    <tr>\n",
       "      <th>3081</th>\n",
       "      <td>28.544276</td>\n",
       "      <td>-81.381794</td>\n",
       "      <td>2.21</td>\n",
       "      <td>837856.948354</td>\n",
       "      <td>-5.528190e+06</td>\n",
       "      <td>3.041437e+06</td>\n",
       "    </tr>\n",
       "    <tr>\n",
       "      <th>3082</th>\n",
       "      <td>28.544411</td>\n",
       "      <td>-81.381794</td>\n",
       "      <td>1.93</td>\n",
       "      <td>837855.874497</td>\n",
       "      <td>-5.528183e+06</td>\n",
       "      <td>3.041450e+06</td>\n",
       "    </tr>\n",
       "    <tr>\n",
       "      <th>3083</th>\n",
       "      <td>28.544544</td>\n",
       "      <td>-81.381793</td>\n",
       "      <td>1.65</td>\n",
       "      <td>837854.913030</td>\n",
       "      <td>-5.528176e+06</td>\n",
       "      <td>3.041463e+06</td>\n",
       "    </tr>\n",
       "    <tr>\n",
       "      <th>...</th>\n",
       "      <td>...</td>\n",
       "      <td>...</td>\n",
       "      <td>...</td>\n",
       "      <td>...</td>\n",
       "      <td>...</td>\n",
       "      <td>...</td>\n",
       "    </tr>\n",
       "    <tr>\n",
       "      <th>4397</th>\n",
       "      <td>28.540002</td>\n",
       "      <td>-81.374361</td>\n",
       "      <td>2.27</td>\n",
       "      <td>838608.139326</td>\n",
       "      <td>-5.528305e+06</td>\n",
       "      <td>3.041020e+06</td>\n",
       "    </tr>\n",
       "    <tr>\n",
       "      <th>4398</th>\n",
       "      <td>28.540117</td>\n",
       "      <td>-81.374364</td>\n",
       "      <td>1.98</td>\n",
       "      <td>838606.934442</td>\n",
       "      <td>-5.528299e+06</td>\n",
       "      <td>3.041031e+06</td>\n",
       "    </tr>\n",
       "    <tr>\n",
       "      <th>4399</th>\n",
       "      <td>28.540223</td>\n",
       "      <td>-81.374366</td>\n",
       "      <td>1.70</td>\n",
       "      <td>838605.897683</td>\n",
       "      <td>-5.528294e+06</td>\n",
       "      <td>3.041042e+06</td>\n",
       "    </tr>\n",
       "    <tr>\n",
       "      <th>4400</th>\n",
       "      <td>28.540324</td>\n",
       "      <td>-81.374368</td>\n",
       "      <td>1.42</td>\n",
       "      <td>838604.900723</td>\n",
       "      <td>-5.528288e+06</td>\n",
       "      <td>3.041052e+06</td>\n",
       "    </tr>\n",
       "    <tr>\n",
       "      <th>4401</th>\n",
       "      <td>28.540431</td>\n",
       "      <td>-81.374370</td>\n",
       "      <td>1.14</td>\n",
       "      <td>838603.856000</td>\n",
       "      <td>-5.528283e+06</td>\n",
       "      <td>3.041062e+06</td>\n",
       "    </tr>\n",
       "  </tbody>\n",
       "</table>\n",
       "<p>1323 rows × 6 columns</p>\n",
       "</div>"
      ],
      "text/plain": [
       "       latitude  longtitude  compass_direction              x             y  \\\n",
       "3079  28.544009  -81.381796               2.77  837858.879219 -5.528204e+06   \n",
       "3080  28.544141  -81.381795               2.49  837857.925720 -5.528197e+06   \n",
       "3081  28.544276  -81.381794               2.21  837856.948354 -5.528190e+06   \n",
       "3082  28.544411  -81.381794               1.93  837855.874497 -5.528183e+06   \n",
       "3083  28.544544  -81.381793               1.65  837854.913030 -5.528176e+06   \n",
       "...         ...         ...                ...            ...           ...   \n",
       "4397  28.540002  -81.374361               2.27  838608.139326 -5.528305e+06   \n",
       "4398  28.540117  -81.374364               1.98  838606.934442 -5.528299e+06   \n",
       "4399  28.540223  -81.374366               1.70  838605.897683 -5.528294e+06   \n",
       "4400  28.540324  -81.374368               1.42  838604.900723 -5.528288e+06   \n",
       "4401  28.540431  -81.374370               1.14  838603.856000 -5.528283e+06   \n",
       "\n",
       "                 z  \n",
       "3079  3.041411e+06  \n",
       "3080  3.041424e+06  \n",
       "3081  3.041437e+06  \n",
       "3082  3.041450e+06  \n",
       "3083  3.041463e+06  \n",
       "...            ...  \n",
       "4397  3.041020e+06  \n",
       "4398  3.041031e+06  \n",
       "4399  3.041042e+06  \n",
       "4400  3.041052e+06  \n",
       "4401  3.041062e+06  \n",
       "\n",
       "[1323 rows x 6 columns]"
      ]
     },
     "execution_count": 48,
     "metadata": {},
     "output_type": "execute_result"
    }
   ],
   "source": [
    "data"
   ]
  },
  {
   "cell_type": "code",
   "execution_count": 49,
   "id": "3c09f147",
   "metadata": {},
   "outputs": [],
   "source": [
    "lat = str(latitude)"
   ]
  },
  {
   "cell_type": "code",
   "execution_count": 50,
   "id": "5eaa63dc",
   "metadata": {},
   "outputs": [],
   "source": [
    "new_list = []\n",
    "\n",
    "for i in range(len(latitude)):\n",
    "    new_list.append(str(latitude[i]))"
   ]
  },
  {
   "cell_type": "code",
   "execution_count": 51,
   "id": "0d61492a",
   "metadata": {},
   "outputs": [
    {
     "name": "stdout",
     "output_type": "stream",
     "text": [
      "このindexは6桁です1092\n"
     ]
    }
   ],
   "source": [
    "length = []\n",
    "\n",
    "for i in range(len(latitude)):\n",
    "    length.append(len(new_list[i]))\n",
    "    if len(new_list[i]) == 6:\n",
    "        print(f'このindexは6桁です{i}')"
   ]
  },
  {
   "cell_type": "code",
   "execution_count": 52,
   "id": "2445ea66",
   "metadata": {},
   "outputs": [
    {
     "data": {
      "text/html": [
       "<div>\n",
       "<style scoped>\n",
       "    .dataframe tbody tr th:only-of-type {\n",
       "        vertical-align: middle;\n",
       "    }\n",
       "\n",
       "    .dataframe tbody tr th {\n",
       "        vertical-align: top;\n",
       "    }\n",
       "\n",
       "    .dataframe thead th {\n",
       "        text-align: right;\n",
       "    }\n",
       "</style>\n",
       "<table border=\"1\" class=\"dataframe\">\n",
       "  <thead>\n",
       "    <tr style=\"text-align: right;\">\n",
       "      <th></th>\n",
       "      <th>latitude</th>\n",
       "      <th>longtitude</th>\n",
       "      <th>compass_direction</th>\n",
       "      <th>x</th>\n",
       "      <th>y</th>\n",
       "      <th>z</th>\n",
       "    </tr>\n",
       "  </thead>\n",
       "  <tbody>\n",
       "    <tr>\n",
       "      <th>4171</th>\n",
       "      <td>28.542000</td>\n",
       "      <td>-81.379051</td>\n",
       "      <td>352.54</td>\n",
       "      <td>838139.715497</td>\n",
       "      <td>-5.528269e+06</td>\n",
       "      <td>3.041215e+06</td>\n",
       "    </tr>\n",
       "    <tr>\n",
       "      <th>4172</th>\n",
       "      <td>28.542197</td>\n",
       "      <td>-81.379056</td>\n",
       "      <td>351.98</td>\n",
       "      <td>838137.665648</td>\n",
       "      <td>-5.528259e+06</td>\n",
       "      <td>3.041234e+06</td>\n",
       "    </tr>\n",
       "    <tr>\n",
       "      <th>4173</th>\n",
       "      <td>28.542299</td>\n",
       "      <td>-81.379061</td>\n",
       "      <td>351.69</td>\n",
       "      <td>838136.371657</td>\n",
       "      <td>-5.528253e+06</td>\n",
       "      <td>3.041244e+06</td>\n",
       "    </tr>\n",
       "  </tbody>\n",
       "</table>\n",
       "</div>"
      ],
      "text/plain": [
       "       latitude  longtitude  compass_direction              x             y  \\\n",
       "4171  28.542000  -81.379051             352.54  838139.715497 -5.528269e+06   \n",
       "4172  28.542197  -81.379056             351.98  838137.665648 -5.528259e+06   \n",
       "4173  28.542299  -81.379061             351.69  838136.371657 -5.528253e+06   \n",
       "\n",
       "                 z  \n",
       "4171  3.041215e+06  \n",
       "4172  3.041234e+06  \n",
       "4173  3.041244e+06  "
      ]
     },
     "execution_count": 52,
     "metadata": {},
     "output_type": "execute_result"
    }
   ],
   "source": [
    "temp_data = data[1092:1092+3]\n",
    "temp_data"
   ]
  },
  {
   "cell_type": "code",
   "execution_count": null,
   "id": "f6e7da5a",
   "metadata": {},
   "outputs": [],
   "source": []
  },
  {
   "cell_type": "code",
   "execution_count": null,
   "id": "01c467ea",
   "metadata": {},
   "outputs": [],
   "source": []
  }
 ],
 "metadata": {
  "kernelspec": {
   "display_name": "Python 3 (ipykernel)",
   "language": "python",
   "name": "python3"
  },
  "language_info": {
   "codemirror_mode": {
    "name": "ipython",
    "version": 3
   },
   "file_extension": ".py",
   "mimetype": "text/x-python",
   "name": "python",
   "nbconvert_exporter": "python",
   "pygments_lexer": "ipython3",
   "version": "3.9.7"
  }
 },
 "nbformat": 4,
 "nbformat_minor": 5
}
