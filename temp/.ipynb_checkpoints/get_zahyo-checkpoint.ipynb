{
 "cells": [
  {
   "cell_type": "code",
   "execution_count": 1,
   "id": "ebf8f12f",
   "metadata": {},
   "outputs": [
    {
     "name": "stdout",
     "output_type": "stream",
     "text": [
      "Using matplotlib backend: Qt5Agg\n"
     ]
    },
    {
     "data": {
      "text/plain": [
       "'%.6f'"
      ]
     },
     "execution_count": 1,
     "metadata": {},
     "output_type": "execute_result"
    }
   ],
   "source": [
    "import numpy as np\n",
    "import pandas as pd\n",
    "import matplotlib.pyplot as plt\n",
    "from scipy.spatial import distance\n",
    "\n",
    "%matplotlib\n",
    "pd.options.display.max_rows = 100\n",
    "\n",
    "%precision 6"
   ]
  },
  {
   "cell_type": "code",
   "execution_count": 2,
   "id": "70a1bfb8",
   "metadata": {},
   "outputs": [],
   "source": [
    "df = pd.read_csv('all.csv', index_col=0)\n",
    "\n",
    "# indexに1を足してデータセットと合わせている\n",
    "df.index = df.index + 1"
   ]
  },
  {
   "cell_type": "code",
   "execution_count": 3,
   "id": "8c43a356",
   "metadata": {},
   "outputs": [],
   "source": [
    "data = df[3078:4402]"
   ]
  },
  {
   "cell_type": "code",
   "execution_count": 4,
   "id": "5c7cae6c",
   "metadata": {},
   "outputs": [],
   "source": [
    "latitude = list(data['latitude'])\n",
    "longtitude = list(data['longtitude'])"
   ]
  },
  {
   "cell_type": "code",
   "execution_count": 5,
   "id": "2d7172a5",
   "metadata": {},
   "outputs": [
    {
     "name": "stdout",
     "output_type": "stream",
     "text": [
      "1324\n",
      "1324\n"
     ]
    }
   ],
   "source": [
    "print(len(latitude))\n",
    "print(len(longtitude))\n",
    "N = 1324"
   ]
  },
  {
   "cell_type": "code",
   "execution_count": 6,
   "id": "639e7e9a",
   "metadata": {},
   "outputs": [
    {
     "data": {
      "text/plain": [
       "8"
      ]
     },
     "execution_count": 6,
     "metadata": {},
     "output_type": "execute_result"
    },
    {
     "name": "stdout",
     "output_type": "stream",
     "text": [
      "4255,\n",
      "4256,\n",
      "3780,\n",
      "3781,\n"
     ]
    }
   ],
   "source": [
    "'''\n",
    "使い方\n",
    "左クリックで座標を合わせ、あったところのindexを返す\n",
    "\n",
    "'''\n",
    "\n",
    "\n",
    "plt.rcParams['font.size']=14\n",
    "\n",
    "class SnaptoCursor(object):\n",
    "    \"\"\"\n",
    "    十字カーソルを現在のカーソルのｘ値から最も近いxの点に飛ばす。\n",
    "    \"\"\"\n",
    "\n",
    "    def __init__(self, ax, x, y):\n",
    "        self.ax = ax\n",
    "        self.lx = ax.axhline(color='g')  # the horiz line\n",
    "        self.ly = ax.axvline(color='g')  # the vert line\n",
    "        self.x = x\n",
    "        self.y = y\n",
    "        # location of point\n",
    "\n",
    "        \n",
    "    def mouse_move(self, event):\n",
    "        if not event.inaxes:\n",
    "                return\n",
    "        if event.button == 1: #左クリック\n",
    "            click_x, click_y = event.xdata, event.ydata\n",
    "            click_zahyo = [click_x, click_y]\n",
    "            min_dist = 10**18\n",
    "            index = float('inf')\n",
    "            \n",
    "            for _index in range(N):\n",
    "                data_zhayo = [self.x[_index], self.y[_index]]\n",
    "                temp_dist = distance.euclidean(click_zahyo, data_zhayo)\n",
    "                if min_dist >= temp_dist:\n",
    "                    min_dist = temp_dist\n",
    "                    index = _index\n",
    "            \n",
    "            x = self.x[index]\n",
    "            y = self.y[index]\n",
    "            self.lx.set_ydata(y)\n",
    "            self.ly.set_xdata(x)\n",
    "            self.ax.figure.canvas.draw()\n",
    "            print(f'{index+3078},')\n",
    "            \n",
    "#         elif event.button == 3: # 右クリック\n",
    "#             print('[%f, %f],' % (event.xdata, event.ydata))\n",
    "        \n",
    "\n",
    "\n",
    "fig,ax = plt.subplots(figsize=(8, 6))\n",
    "ax.set_xlim([28.540, 28.5450])\n",
    "ax.set_ylim([-81.382021, -81.3756])\n",
    "x, y = latitude, longtitude\n",
    "[ax.plot(x[i], y[i], 'o', mew=1, mec='k', ms=5) for i in range(len(x))]\n",
    "snap_cursor = SnaptoCursor(ax, x, y)\n",
    "fig.canvas.mpl_connect('button_press_event' , snap_cursor.mouse_move)"
   ]
  },
  {
   "cell_type": "code",
   "execution_count": 15,
   "id": "1240781e",
   "metadata": {},
   "outputs": [
    {
     "data": {
      "text/plain": [
       "<AxesSubplot:xlabel='latitude', ylabel='longtitude'>"
      ]
     },
     "execution_count": 15,
     "metadata": {},
     "output_type": "execute_result"
    }
   ],
   "source": [
    "def north_img_num(dir):\n",
    "    if dir < 50 or 300 < dir:\n",
    "        return 4\n",
    "    elif 50 < dir < 150:\n",
    "        return 3\n",
    "    else:\n",
    "        return 2\n",
    "\n",
    "df_direction = pd.DataFrame(index=data.index, columns=['north', 'west', 'south', 'east'])\n",
    "df_direction['north'] = data['compass_direction'].map(north_img_num)\n",
    "df_direction['west'] = df_direction['north'].map(lambda x: (x + 2) % 4 + 1)\n",
    "df_direction['south'] = df_direction['north'].map(lambda x: (x + 1) % 4 + 1)\n",
    "df_direction['east'] = df_direction['north'].map(lambda x: (x) % 4 + 1)\n",
    "df_group_1_with_dir_num = data.join(df_direction)\n",
    "df_group_1_with_dir_num.plot.scatter(x='latitude', y='longtitude', s=2, c='north', colormap='rainbow')"
   ]
  },
  {
   "cell_type": "code",
   "execution_count": null,
   "id": "f6e7da5a",
   "metadata": {},
   "outputs": [],
   "source": []
  },
  {
   "cell_type": "code",
   "execution_count": 22,
   "id": "01c467ea",
   "metadata": {},
   "outputs": [],
   "source": [
    "group_1 = df_direction[df_direction['north']==4]"
   ]
  },
  {
   "cell_type": "code",
   "execution_count": 24,
   "id": "ebe26fd0",
   "metadata": {},
   "outputs": [],
   "source": [
    "group_2 = df_direction[df_direction['north']==3]"
   ]
  },
  {
   "cell_type": "code",
   "execution_count": 26,
   "id": "20836afe",
   "metadata": {},
   "outputs": [],
   "source": [
    "group_3 = df_direction[df_direction['north']==2]"
   ]
  },
  {
   "cell_type": "code",
   "execution_count": 27,
   "id": "c90533ff",
   "metadata": {},
   "outputs": [
    {
     "name": "stdout",
     "output_type": "stream",
     "text": [
      "True\n"
     ]
    }
   ],
   "source": [
    "print(len(data)==len(group_1)+len(group_2)+len(group_3))"
   ]
  },
  {
   "cell_type": "code",
   "execution_count": 31,
   "id": "3848cf71",
   "metadata": {},
   "outputs": [],
   "source": [
    "group_1 = list(group_1.index)\n",
    "group_2 = list(group_2.index)\n",
    "group_3 = list(group_3.index)"
   ]
  },
  {
   "cell_type": "code",
   "execution_count": null,
   "id": "1822a9c5",
   "metadata": {},
   "outputs": [],
   "source": []
  }
 ],
 "metadata": {
  "kernelspec": {
   "display_name": "Python 3 (ipykernel)",
   "language": "python",
   "name": "python3"
  },
  "language_info": {
   "codemirror_mode": {
    "name": "ipython",
    "version": 3
   },
   "file_extension": ".py",
   "mimetype": "text/x-python",
   "name": "python",
   "nbconvert_exporter": "python",
   "pygments_lexer": "ipython3",
   "version": "3.9.7"
  }
 },
 "nbformat": 4,
 "nbformat_minor": 5
}
