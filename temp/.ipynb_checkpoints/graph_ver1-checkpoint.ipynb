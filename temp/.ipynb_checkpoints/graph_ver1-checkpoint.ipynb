{
 "cells": [
  {
   "cell_type": "code",
   "execution_count": 1,
   "id": "19814888",
   "metadata": {},
   "outputs": [],
   "source": [
    "import os\n",
    "import pandas as pd\n",
    "import numpy as np\n",
    "\n",
    "from PIL import Image\n",
    "\n",
    "data = pd.read_csv('all_.csv', index_col=0)"
   ]
  },
  {
   "cell_type": "code",
   "execution_count": 2,
   "id": "4e030bf2",
   "metadata": {},
   "outputs": [
    {
     "data": {
      "application/vnd.jupyter.widget-view+json": {
       "model_id": "71097d48b90f4c0da44cbc6b8840f63d",
       "version_major": 2,
       "version_minor": 0
      },
      "text/plain": [
       "Textarea(value='')"
      ]
     },
     "metadata": {},
     "output_type": "display_data"
    }
   ],
   "source": [
    "from ipywidgets import Textarea\n",
    "\n",
    "def get_input(change):\n",
    "    global Input\n",
    "    Input = change[\"new\"]\n",
    "\n",
    "textarea = Textarea()\n",
    "textarea.observe(get_input, names='value')\n",
    "display(textarea)"
   ]
  },
  {
   "cell_type": "code",
   "execution_count": 3,
   "id": "e3882226",
   "metadata": {},
   "outputs": [],
   "source": [
    "IN = iter(Input.split('\\n')).__next__\n",
    "def input():\n",
    "    return IN()\n",
    "\n",
    "N, M = map(int, input().split())\n",
    "\n",
    "Graph = [[] for _ in range(4800)]\n",
    "\n",
    "for i in range(M):\n",
    "    a, b, direction = map(int, input().split())\n",
    "    Graph[a].append((b, direction))"
   ]
  },
  {
   "cell_type": "code",
   "execution_count": 4,
   "id": "e7cb4e19",
   "metadata": {},
   "outputs": [],
   "source": [
    "# 画像データがあるディレクトリを指定(localで動かす場合)\n",
    "os.chdir(\"D:/worldmodeldata\")"
   ]
  },
  {
   "cell_type": "code",
   "execution_count": 5,
   "id": "edbad2dc",
   "metadata": {},
   "outputs": [],
   "source": [
    "def node_int_to_string(node):\n",
    "    node = str(node)\n",
    "    temp = len(node)\n",
    "    fill = 6 - temp\n",
    "    fill_text = \"0\" * fill\n",
    "    node = fill_text + node\n",
    "    return node\n",
    "\n",
    "def return_image_and_moveable_node(image, action):\n",
    "    \"\"\"\n",
    "    Graph\n",
    "    input image(node), action\n",
    "    return image, next_node, and moveable_direction\n",
    "\n",
    "    \"\"\"\n",
    "    current_node = int(image[:6])\n",
    "    moveable_nodes = Graph[current_node]\n",
    "    next_node = float('inf')\n",
    "    \n",
    "    \n",
    "    print(f\"今のnodeは{current_node}で動ける箇所は{Graph[current_node]}\")\n",
    "    \n",
    "    for i in moveable_nodes:\n",
    "        if i[1] == action:\n",
    "            next_node = i[0]\n",
    "    \n",
    "    \n",
    "    \n",
    "    next_image = node_int_to_string(next_node) + \"_\" + str(action) + \".jpg\"\n",
    "    _next_image = Image.open(next_image)\n",
    "    \n",
    "    # ここでappendしてます。外に書いたほうがいいかもしれません。\n",
    "    pictures.append(_next_image)\n",
    "    next_moveable_nodes = Graph[next_node]\n",
    "    \n",
    "    return next_image, next_node, next_moveable_nodes"
   ]
  },
  {
   "cell_type": "code",
   "execution_count": 7,
   "id": "7b9de52b",
   "metadata": {},
   "outputs": [
    {
     "name": "stdout",
     "output_type": "stream",
     "text": [
      "今のnodeは1035で動ける箇所は[(1228, 1), (1036, 0), (1034, 4)]\n",
      "今のnodeは1228で動ける箇所は[(1229, 1), (1035, 3)]\n",
      "今のnodeは1229で動ける箇所は[(1230, 1), (1228, 3)]\n",
      "今のnodeは1230で動ける箇所は[(1231, 1), (1229, 3)]\n",
      "今のnodeは1231で動ける箇所は[(1232, 1), (1230, 3)]\n",
      "今のnodeは1232で動ける箇所は[(1233, 1), (1231, 3)]\n",
      "今のnodeは1233で動ける箇所は[(1234, 1), (1232, 3)]\n",
      "今のnodeは1234で動ける箇所は[(1235, 1), (1233, 3)]\n",
      "今のnodeは1235で動ける箇所は[(1236, 1), (1234, 3)]\n",
      "今のnodeは1236で動ける箇所は[(1237, 1), (1235, 3)]\n",
      "今のnodeは1237で動ける箇所は[(1238, 1), (1236, 3)]\n",
      "今のnodeは1238で動ける箇所は[(1239, 1), (1237, 3)]\n",
      "今のnodeは1239で動ける箇所は[(609, 1), (1238, 3)]\n",
      "今のnodeは609で動ける箇所は[(1240, 1), (1239, 3), (610, 0), (608, 4)]\n",
      "今のnodeは1240で動ける箇所は[(1241, 1), (609, 3)]\n",
      "今のnodeは1241で動ける箇所は[(1242, 1), (1240, 3)]\n",
      "今のnodeは1242で動ける箇所は[(1243, 1), (1241, 3)]\n",
      "今のnodeは1243で動ける箇所は[(1244, 1), (1242, 3)]\n",
      "今のnodeは1244で動ける箇所は[(1245, 1), (1243, 3)]\n",
      "今のnodeは1245で動ける箇所は[(1246, 1), (1244, 3)]\n",
      "今のnodeは1246で動ける箇所は[(1247, 1), (1245, 3)]\n",
      "今のnodeは1247で動ける箇所は[(1248, 1), (1246, 3)]\n",
      "今のnodeは1248で動ける箇所は[(1249, 1), (1247, 3)]\n",
      "今のnodeは1249で動ける箇所は[(1250, 1), (1248, 3)]\n",
      "今のnodeは1250で動ける箇所は[(1251, 1), (1249, 3)]\n",
      "今のnodeは1251で動ける箇所は[(1252, 1), (1250, 3)]\n",
      "今のnodeは1252で動ける箇所は[(1253, 1), (1251, 3)]\n",
      "今のnodeは1253で動ける箇所は[(1254, 1), (1252, 3)]\n",
      "今のnodeは1254で動ける箇所は[(1255, 1), (1253, 3)]\n",
      "今のnodeは1255で動ける箇所は[(1256, 1), (1254, 3)]\n",
      "今のnodeは1256で動ける箇所は[(666, 1), (1255, 3)]\n",
      "今のnodeは666で動ける箇所は[(1257, 1), (1256, 3), (667, 0), (665, 4), (667, 0), (665, 4)]\n",
      "今のnodeは1257で動ける箇所は[(1258, 1), (666, 3)]\n",
      "今のnodeは1258で動ける箇所は[(1259, 1), (1257, 3)]\n",
      "今のnodeは1259で動ける箇所は[(1260, 1), (1258, 3)]\n",
      "今のnodeは1260で動ける箇所は[(1261, 1), (1259, 3)]\n",
      "今のnodeは1261で動ける箇所は[(1262, 1), (1260, 3)]\n",
      "今のnodeは1262で動ける箇所は[(1263, 1), (1261, 3)]\n",
      "今のnodeは1263で動ける箇所は[(1264, 1), (1262, 3)]\n",
      "今のnodeは1264で動ける箇所は[(1265, 1), (1263, 3)]\n",
      "今のnodeは1265で動ける箇所は[(1266, 1), (1264, 3)]\n",
      "今のnodeは1266で動ける箇所は[(1267, 1), (1265, 3)]\n",
      "今のnodeは1267で動ける箇所は[(1268, 1), (1266, 3)]\n",
      "今のnodeは1268で動ける箇所は[(1269, 1), (1267, 3)]\n",
      "今のnodeは1269で動ける箇所は[(1270, 1), (1268, 3)]\n",
      "今のnodeは1270で動ける箇所は[(1271, 1), (1269, 3)]\n",
      "今のnodeは1271で動ける箇所は[(1272, 1), (1270, 3)]\n",
      "今のnodeは1272で動ける箇所は[(1273, 1), (1271, 3)]\n",
      "今のnodeは1273で動ける箇所は[(1274, 1), (1272, 3), (765, 4)]\n",
      "今のnodeは1274で動ける箇所は[(1275, 1), (1273, 3)]\n"
     ]
    }
   ],
   "source": [
    "pictures = []\n",
    "# next_image, next_node, next_moveable_nodes = return_image_and_moveable_node(\"001257_0.jpg\", 1)\n",
    "\n",
    "next_image = \"001035_0.jpg\"\n",
    "\n",
    "for i in range(50):\n",
    "    next_image, next_node, next_moveable_nodes = return_image_and_moveable_node(next_image, 1)"
   ]
  },
  {
   "cell_type": "code",
   "execution_count": 8,
   "id": "c3c93ef9",
   "metadata": {},
   "outputs": [],
   "source": [
    "pictures[0].save('anime.gif',save_all=True, append_images=pictures[1:], optimize=False, duration=500, loop=0)"
   ]
  },
  {
   "cell_type": "code",
   "execution_count": null,
   "id": "5a8009b9",
   "metadata": {},
   "outputs": [],
   "source": []
  }
 ],
 "metadata": {
  "kernelspec": {
   "display_name": "Python 3 (ipykernel)",
   "language": "python",
   "name": "python3"
  },
  "language_info": {
   "codemirror_mode": {
    "name": "ipython",
    "version": 3
   },
   "file_extension": ".py",
   "mimetype": "text/x-python",
   "name": "python",
   "nbconvert_exporter": "python",
   "pygments_lexer": "ipython3",
   "version": "3.9.7"
  }
 },
 "nbformat": 4,
 "nbformat_minor": 5
}
