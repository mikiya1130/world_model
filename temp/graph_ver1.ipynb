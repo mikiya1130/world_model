{
 "cells": [
  {
   "cell_type": "code",
   "execution_count": 4,
   "id": "19814888",
   "metadata": {},
   "outputs": [],
   "source": [
    "import os\n",
    "import pandas as pd\n",
    "import numpy as np\n",
    "\n",
    "from PIL import Image\n",
    "\n",
    "data = pd.read_csv('all_.csv', index_col=0)"
   ]
  },
  {
   "cell_type": "code",
   "execution_count": 3,
   "id": "62f05343",
   "metadata": {},
   "outputs": [],
   "source": [
    "# data"
   ]
  },
  {
   "cell_type": "code",
   "execution_count": 6,
   "id": "4e030bf2",
   "metadata": {},
   "outputs": [
    {
     "data": {
      "application/vnd.jupyter.widget-view+json": {
       "model_id": "34c6a952e67e4033b887e907414a8955",
       "version_major": 2,
       "version_minor": 0
      },
      "text/plain": [
       "Textarea(value='')"
      ]
     },
     "metadata": {},
     "output_type": "display_data"
    }
   ],
   "source": [
    "from ipywidgets import Textarea\n",
    "\n",
    "def get_input(change):\n",
    "    global Input\n",
    "    Input = change[\"new\"]\n",
    "\n",
    "textarea = Textarea()\n",
    "textarea.observe(get_input, names='value')\n",
    "display(textarea)"
   ]
  },
  {
   "cell_type": "code",
   "execution_count": 7,
   "id": "e3882226",
   "metadata": {},
   "outputs": [],
   "source": [
    "IN = iter(Input.split('\\n')).__next__\n",
    "def input():\n",
    "    return IN()\n",
    "\n",
    "N, M = map(int, input().split())\n",
    "\n",
    "Graph = [[] for _ in range(4800)]\n",
    "\n",
    "for i in range(M):\n",
    "    a, b, direction = map(int, input().split())\n",
    "    Graph[a].append((b, direction))"
   ]
  },
  {
   "cell_type": "code",
   "execution_count": 8,
   "id": "e7cb4e19",
   "metadata": {},
   "outputs": [],
   "source": [
    "os.chdir(\"D:/worldmodeldata\")"
   ]
  },
  {
   "cell_type": "code",
   "execution_count": 9,
   "id": "6960e5e1",
   "metadata": {},
   "outputs": [],
   "source": [
    "def node_int_to_string(node):\n",
    "    node = str(node)\n",
    "    temp = len(node)\n",
    "    fill = 6 - temp\n",
    "    fill_text = \"0\" * fill\n",
    "    node = fill_text + node\n",
    "    return node"
   ]
  },
  {
   "cell_type": "code",
   "execution_count": 54,
   "id": "edbad2dc",
   "metadata": {},
   "outputs": [],
   "source": [
    "def return_image_and_moveable_node(image, action):\n",
    "    \"\"\"\n",
    "    Graph\n",
    "    input image(node), action\n",
    "    return image, next_node, and moveable_direction\n",
    "\n",
    "    \"\"\"\n",
    "    current_node = int(image[:6])\n",
    "    moveable_nodes = Graph[current_node]\n",
    "    next_node = float('inf')\n",
    "    \n",
    "    \n",
    "    print(f\"今のnodeは{current_node}で動ける箇所は{Graph[current_node]}\")\n",
    "    \n",
    "    for i in moveable_nodes:\n",
    "        if i[1] == action:\n",
    "            next_node = i[0]\n",
    "    \n",
    "    next_image = node_int_to_string(next_node) + \"_\" + str(action) + \".jpg\"\n",
    "    _next_image = Image.open(next_image)\n",
    "    \n",
    "    # ここでappendしてます。外に書いたほうがいいかもしれません。\n",
    "    pictures.append(_next_image)\n",
    "    next_moveable_nodes = Graph[next_node]\n",
    "    return next_image, next_node, next_moveable_nodes"
   ]
  },
  {
   "cell_type": "code",
   "execution_count": 18,
   "id": "30098578",
   "metadata": {},
   "outputs": [
    {
     "data": {
      "text/plain": [
       "('001258_1.jpg', 1258, [(1259, 1), (1257, 3)])"
      ]
     },
     "execution_count": 18,
     "metadata": {},
     "output_type": "execute_result"
    }
   ],
   "source": [
    "pictures = []\n",
    "return_image_and_moveable_node(\"001257_0.jpg\", 1)"
   ]
  },
  {
   "cell_type": "code",
   "execution_count": 58,
   "id": "7b9de52b",
   "metadata": {},
   "outputs": [
    {
     "name": "stdout",
     "output_type": "stream",
     "text": [
      "今のnodeは1257で動ける箇所は[(1258, 1), (666, 3)]\n",
      "今のnodeは1258で動ける箇所は[(1259, 1), (1257, 3)]\n",
      "今のnodeは1259で動ける箇所は[(1260, 1), (1258, 3)]\n",
      "今のnodeは1260で動ける箇所は[(1261, 1), (1259, 3)]\n",
      "今のnodeは1261で動ける箇所は[(1262, 1), (1260, 3)]\n",
      "今のnodeは1262で動ける箇所は[(1263, 1), (1261, 3)]\n",
      "今のnodeは1263で動ける箇所は[(1264, 1), (1262, 3)]\n",
      "今のnodeは1264で動ける箇所は[(1265, 1), (1263, 3)]\n",
      "今のnodeは1265で動ける箇所は[(1266, 1), (1264, 3), (716, 2)]\n",
      "今のnodeは716で動ける箇所は[(715, 2), (1265, 0)]\n",
      "今のnodeは715で動ける箇所は[(714, 2), (716, 0)]\n",
      "今のnodeは714で動ける箇所は[(713, 2), (715, 0)]\n",
      "今のnodeは713で動ける箇所は[(712, 2), (714, 0)]\n",
      "今のnodeは712で動ける箇所は[(711, 2), (713, 0)]\n",
      "今のnodeは711で動ける箇所は[(710, 2), (712, 0)]\n",
      "今のnodeは710で動ける箇所は[(709, 2), (711, 0)]\n"
     ]
    }
   ],
   "source": [
    "pictures = []\n",
    "next_image, next_node, next_moveable_nodes = return_image_and_moveable_node(\"001257_0.jpg\", 1)\n",
    "\n",
    "for i in range(7):\n",
    "    next_image, next_node, next_moveable_nodes = return_image_and_moveable_node(next_image, 1)\n",
    "\n",
    "for i in range(8):\n",
    "    next_image, next_node, next_moveable_nodes = return_image_and_moveable_node(next_image, 2)"
   ]
  },
  {
   "cell_type": "code",
   "execution_count": 59,
   "id": "c3c93ef9",
   "metadata": {},
   "outputs": [],
   "source": [
    "pictures[0].save('anime.gif',save_all=True, append_images=pictures[1:], optimize=False, duration=500, loop=0)"
   ]
  },
  {
   "cell_type": "code",
   "execution_count": null,
   "id": "5a8009b9",
   "metadata": {},
   "outputs": [],
   "source": []
  }
 ],
 "metadata": {
  "kernelspec": {
   "display_name": "Python 3 (ipykernel)",
   "language": "python",
   "name": "python3"
  },
  "language_info": {
   "codemirror_mode": {
    "name": "ipython",
    "version": 3
   },
   "file_extension": ".py",
   "mimetype": "text/x-python",
   "name": "python",
   "nbconvert_exporter": "python",
   "pygments_lexer": "ipython3",
   "version": "3.9.7"
  }
 },
 "nbformat": 4,
 "nbformat_minor": 5
}
