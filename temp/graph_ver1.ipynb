{
 "cells": [
  {
   "cell_type": "code",
   "execution_count": 1,
   "id": "19814888",
   "metadata": {},
   "outputs": [],
   "source": [
    "import pandas as pd\n",
    "import numpy as np\n",
    "\n",
    "from PIL import Image\n",
    "\n",
    "df = pd.read_csv('all.csv', index_col=0)\n",
    "\n",
    "# indexに1を足してデータセットと合わせている\n",
    "df.index = df.index + 1\n",
    "\n",
    "data = df[3078:4402]"
   ]
  },
  {
   "cell_type": "code",
   "execution_count": 2,
   "id": "6960e5e1",
   "metadata": {},
   "outputs": [],
   "source": [
    "# hen\n",
    "uenohen = [4255, 4256, 4257, 4258, 4259, 4260, 4261]\n",
    "shitanohen = [4165, 4166, 4167, 4168, 4169, 4170, 4171]\n",
    "miginohen = [3829, 3828, 3827, 3826, 3825, 3824, 3823, 3822, 3821, 3820, 3819, 3818, 3817]\n",
    "hidarinohen = [3780, 3779, 3778, 3777, 3776, 3775, 3774, 3773, 3772, 3771, 3770, 3769]\n",
    "\n",
    "# kado\n",
    "hidariue = [3781]\n",
    "migiue = [3830]\n",
    "hidarishita = [3768]\n",
    "migishita = [3816]"
   ]
  },
  {
   "cell_type": "code",
   "execution_count": 3,
   "id": "43e8ea86",
   "metadata": {},
   "outputs": [],
   "source": [
    "def get_txt(data, direction_1, direction_2):\n",
    "    n = len(data)\n",
    "    for i in range(n-1):\n",
    "        print(data[i], data[(i+1)], direction_1)\n",
    "    for i in range(n):\n",
    "        if i == 0:\n",
    "            continue\n",
    "        print(data[-i], data[-(i+1)], direction_2)"
   ]
  },
  {
   "cell_type": "code",
   "execution_count": 4,
   "id": "8663e642",
   "metadata": {},
   "outputs": [
    {
     "name": "stdout",
     "output_type": "stream",
     "text": [
      "3780 3779 3\n",
      "3779 3778 3\n",
      "3778 3777 3\n",
      "3777 3776 3\n",
      "3776 3775 3\n",
      "3775 3774 3\n",
      "3774 3773 3\n",
      "3773 3772 3\n",
      "3772 3771 3\n",
      "3771 3770 3\n",
      "3770 3769 3\n",
      "3769 3770 1\n",
      "3770 3771 1\n",
      "3771 3772 1\n",
      "3772 3773 1\n",
      "3773 3774 1\n",
      "3774 3775 1\n",
      "3775 3776 1\n",
      "3776 3777 1\n",
      "3777 3778 1\n",
      "3778 3779 1\n",
      "3779 3780 1\n"
     ]
    }
   ],
   "source": [
    "get_txt(hidarinohen, 3, 1)"
   ]
  },
  {
   "cell_type": "code",
   "execution_count": 5,
   "id": "d1e178d4",
   "metadata": {},
   "outputs": [],
   "source": [
    "# 写真をとる方角のグループに分ける\n",
    "\"\"\"\n",
    "group_1  1: 東, 2: 南, 3: 西, 4: 北\n",
    "group_2  1: 南, 2: 西, 3: 北, 4: 東 \n",
    "group_3  1: 西, 2: 北, 3: 東, 4: 南\n",
    "\n",
    "  1\n",
    "4   2\n",
    "  3\n",
    "group_1を基本とし他はそれに合わせる\n",
    "\n",
    "\"\"\"\n",
    "\n",
    "def north_img_num(dir):\n",
    "    if dir < 50 or 300 < dir:\n",
    "        return 4\n",
    "    elif 50 < dir < 150:\n",
    "        return 3\n",
    "    else:\n",
    "        return 2\n",
    "\n",
    "df_direction = pd.DataFrame(index=data.index, columns=['north', 'west', 'south', 'east'])\n",
    "df_direction['north'] = data['compass_direction'].map(north_img_num)\n",
    "df_direction['west'] = df_direction['north'].map(lambda x: (x + 2) % 4 + 1)\n",
    "df_direction['south'] = df_direction['north'].map(lambda x: (x + 1) % 4 + 1)\n",
    "df_direction['east'] = df_direction['north'].map(lambda x: (x) % 4 + 1)\n",
    "df_group_1_with_dir_num = data.join(df_direction)\n",
    "\n",
    "group_1 = df_direction[df_direction['north']==4]\n",
    "group_2 = df_direction[df_direction['north']==3]\n",
    "group_3 = df_direction[df_direction['north']==2]\n",
    "\n",
    "group_1 = list(group_1.index)\n",
    "group_2 = list(group_2.index)\n",
    "group_3 = list(group_3.index)"
   ]
  },
  {
   "cell_type": "code",
   "execution_count": 6,
   "id": "055061ed",
   "metadata": {},
   "outputs": [],
   "source": [
    "def check_group(a):\n",
    "    for i in a:\n",
    "        if i in group_3:\n",
    "            print(f'{i} is group_3')\n",
    "        elif i in group_2:\n",
    "            print(f'{i} is group_2')\n",
    "        else:\n",
    "            print(f'{i} is group_1')"
   ]
  },
  {
   "cell_type": "code",
   "execution_count": 7,
   "id": "b8dc9f31",
   "metadata": {},
   "outputs": [
    {
     "name": "stdout",
     "output_type": "stream",
     "text": [
      "4255 is group_1\n",
      "4256 is group_1\n",
      "4257 is group_1\n",
      "4258 is group_1\n",
      "4259 is group_1\n",
      "4260 is group_1\n",
      "4261 is group_1\n"
     ]
    }
   ],
   "source": [
    "check_group(uenohen)"
   ]
  },
  {
   "cell_type": "code",
   "execution_count": null,
   "id": "7acf154b",
   "metadata": {},
   "outputs": [],
   "source": []
  },
  {
   "cell_type": "code",
   "execution_count": 8,
   "id": "d5226fd7",
   "metadata": {},
   "outputs": [],
   "source": [
    "# get_txt(hidarinohen, 3, 1)"
   ]
  },
  {
   "cell_type": "code",
   "execution_count": 9,
   "id": "edbad2dc",
   "metadata": {},
   "outputs": [
    {
     "data": {
      "application/vnd.jupyter.widget-view+json": {
       "model_id": "7414ba38821341c9ad71adf84f6eaf9d",
       "version_major": 2,
       "version_minor": 0
      },
      "text/plain": [
       "Textarea(value='')"
      ]
     },
     "metadata": {},
     "output_type": "display_data"
    }
   ],
   "source": [
    "from ipywidgets import Textarea\n",
    "\n",
    "def get_input(change):\n",
    "    global Input\n",
    "    Input = change[\"new\"]\n",
    "\n",
    "textarea = Textarea()\n",
    "textarea.observe(get_input, names='value')\n",
    "display(textarea)"
   ]
  },
  {
   "cell_type": "code",
   "execution_count": 10,
   "id": "1bed2601",
   "metadata": {},
   "outputs": [],
   "source": [
    "IN = iter(Input.split('\\n')).__next__\n",
    "def input():\n",
    "    return IN()\n",
    "\n",
    "N, M = map(int, input().split())\n",
    "\n",
    "Graph = [[] for _ in range(4800)]\n",
    "\n",
    "north = 4\n",
    "south = 2\n",
    "east = 1\n",
    "west = 3\n",
    "\n",
    "for i in range(M):\n",
    "    a, b, direction = map(int, input().split())\n",
    "    Graph[a].append((b, direction))"
   ]
  },
  {
   "cell_type": "code",
   "execution_count": 11,
   "id": "7757517c",
   "metadata": {},
   "outputs": [],
   "source": [
    "def node_int_to_string(node):\n",
    "    node = str(node)\n",
    "    temp = len(node)\n",
    "    fill = 6 - temp\n",
    "    fill_text = \"0\" * fill\n",
    "    node = fill_text + node\n",
    "    return node\n",
    "\n",
    "def check_node_group(node):\n",
    "    if node in group_3:\n",
    "        return 3\n",
    "    elif node in group_2:\n",
    "        return 2\n",
    "    else:\n",
    "        return 1\n",
    "\n",
    "def return_action(node_group, direction):\n",
    "    north, south, east, west = 4, 2, 1, 3\n",
    "    \n",
    "    if node_group == 1:\n",
    "        pass\n",
    "    elif node_group == 2:\n",
    "        north, south, east, west = east, west, south, north\n",
    "    else:\n",
    "        north, south, east, west = south, north, west, east\n",
    "    \n",
    "    if direction == 'north':\n",
    "        action = north\n",
    "        return action\n",
    "    elif direction == 'south':\n",
    "        action = south\n",
    "        return action\n",
    "    elif direction== 'east':\n",
    "        action = east\n",
    "        return action\n",
    "    else:\n",
    "        action = west\n",
    "        return action\n",
    "\n",
    "pictures = []\n",
    "data_url = '../data/'\n",
    "\n",
    "def return_image_and_moveable_node(image, direction):\n",
    "    \"\"\"\n",
    "    Graph\n",
    "    input image(node), action(direction)\n",
    "    return image, next_node, and moveable_direction\n",
    "\n",
    "    \"\"\"\n",
    "    currecnt_node = int(image[:6])\n",
    "    node_group = check_node_group(currecnt_node)\n",
    "    action = return_action(node_group, direction)\n",
    "    \n",
    "    moveable_nodes = Graph[currecnt_node]\n",
    "    next_node = float('inf')\n",
    "    for i in moveable_nodes:\n",
    "        if i[1] == action:\n",
    "            next_node = i[0]\n",
    "    next_image = node_int_to_string(next_node) + \"_\" + str(action)\n",
    "    _next_image = Image.open(data_url + next_image + \".jpg\")\n",
    "    pictures.append(_next_image)\n",
    "    next_moveable_nodes = Graph[next_node]\n",
    "    return next_image, next_node, next_moveable_nodes"
   ]
  },
  {
   "cell_type": "code",
   "execution_count": 12,
   "id": "30098578",
   "metadata": {},
   "outputs": [
    {
     "data": {
      "text/plain": [
       "('004256_2', 4256, [(4257, 2), (4255, 4)])"
      ]
     },
     "execution_count": 12,
     "metadata": {},
     "output_type": "execute_result"
    }
   ],
   "source": [
    "return_image_and_moveable_node(\"004255\", \"south\")"
   ]
  },
  {
   "cell_type": "code",
   "execution_count": 13,
   "id": "7b9de52b",
   "metadata": {},
   "outputs": [],
   "source": [
    "start = '004255'\n",
    "next_image, next_node, next_moveable_nodes = return_image_and_moveable_node(start, \"south\")\n",
    "\n",
    "for i in range(5):\n",
    "    next_image, next_node, next_moveable_nodes = return_image_and_moveable_node(next_image, \"south\")"
   ]
  },
  {
   "cell_type": "code",
   "execution_count": null,
   "id": "8d9001b5",
   "metadata": {},
   "outputs": [],
   "source": []
  },
  {
   "cell_type": "code",
   "execution_count": 16,
   "id": "c3c93ef9",
   "metadata": {},
   "outputs": [],
   "source": [
    "pictures[0].save('anime.gif',save_all=True, append_images=pictures[1:],\n",
    "optimize=False, duration=500, loop=0)"
   ]
  },
  {
   "cell_type": "code",
   "execution_count": null,
   "id": "07ac8af8",
   "metadata": {},
   "outputs": [],
   "source": []
  }
 ],
 "metadata": {
  "kernelspec": {
   "display_name": "Python 3 (ipykernel)",
   "language": "python",
   "name": "python3"
  },
  "language_info": {
   "codemirror_mode": {
    "name": "ipython",
    "version": 3
   },
   "file_extension": ".py",
   "mimetype": "text/x-python",
   "name": "python",
   "nbconvert_exporter": "python",
   "pygments_lexer": "ipython3",
   "version": "3.9.7"
  }
 },
 "nbformat": 4,
 "nbformat_minor": 5
}
