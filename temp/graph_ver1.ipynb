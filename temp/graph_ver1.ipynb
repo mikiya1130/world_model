{
 "cells": [
  {
   "cell_type": "code",
   "execution_count": 4,
   "id": "19814888",
   "metadata": {},
   "outputs": [],
   "source": [
    "import os\n",
    "import pandas as pd\n",
    "import numpy as np\n",
    "\n",
    "from PIL import Image\n",
    "\n",
    "data = pd.read_csv('all_.csv', index_col=0)"
   ]
  },
  {
   "cell_type": "code",
   "execution_count": 5,
   "id": "4e030bf2",
   "metadata": {},
   "outputs": [
    {
     "data": {
      "application/vnd.jupyter.widget-view+json": {
       "model_id": "ee78c4a6f5d74f248c6b399f80407225",
       "version_major": 2,
       "version_minor": 0
      },
      "text/plain": [
       "Textarea(value='')"
      ]
     },
     "metadata": {},
     "output_type": "display_data"
    }
   ],
   "source": [
    "from ipywidgets import Textarea\n",
    "\n",
    "def get_input(change):\n",
    "    global Input\n",
    "    Input = change[\"new\"]\n",
    "\n",
    "textarea = Textarea()\n",
    "textarea.observe(get_input, names='value')\n",
    "display(textarea)"
   ]
  },
  {
   "cell_type": "code",
   "execution_count": 6,
   "id": "e3882226",
   "metadata": {},
   "outputs": [],
   "source": [
    "IN = iter(Input.split('\\n')).__next__\n",
    "def input():\n",
    "    return IN()\n",
    "\n",
    "N, M = map(int, input().split())\n",
    "\n",
    "Graph = [[] for _ in range(4800)]\n",
    "\n",
    "for i in range(M):\n",
    "    a, b, direction = map(int, input().split())\n",
    "    Graph[a].append((b, direction))"
   ]
  },
  {
   "cell_type": "code",
   "execution_count": 7,
   "id": "e7cb4e19",
   "metadata": {},
   "outputs": [],
   "source": [
    "# 画像データがあるディレクトリを指定(localで動かす場合)\n",
    "os.chdir(\"D:/worldmodeldata\")"
   ]
  },
  {
   "cell_type": "code",
   "execution_count": 8,
   "id": "edbad2dc",
   "metadata": {},
   "outputs": [],
   "source": [
    "def node_int_to_string(node):\n",
    "    node = str(node)\n",
    "    temp = len(node)\n",
    "    fill = 6 - temp\n",
    "    fill_text = \"0\" * fill\n",
    "    node = fill_text + node\n",
    "    return node\n",
    "\n",
    "def return_image_and_moveable_node(image, action):\n",
    "    \"\"\"\n",
    "    Graph\n",
    "    input image(node), action\n",
    "    return image, next_node, and moveable_direction\n",
    "\n",
    "    \"\"\"\n",
    "    current_node = int(image[:6])\n",
    "    moveable_nodes = Graph[current_node]\n",
    "    next_node = float('inf')\n",
    "    \n",
    "    \n",
    "    print(f\"今のnodeは{current_node}で動ける箇所は{Graph[current_node]}\")\n",
    "    \n",
    "    for i in moveable_nodes:\n",
    "        if i[1] == action:\n",
    "            next_node = i[0]\n",
    "    \n",
    "    \n",
    "    \n",
    "    next_image = node_int_to_string(next_node) + \"_\" + str(action) + \".jpg\"\n",
    "    _next_image = Image.open(next_image)\n",
    "    \n",
    "    # ここでappendしてます。外に書いたほうがいいかもしれません。\n",
    "    pictures.append(_next_image)\n",
    "    next_moveable_nodes = Graph[next_node]\n",
    "    \n",
    "    return next_image, next_node, next_moveable_nodes"
   ]
  },
  {
   "cell_type": "code",
   "execution_count": 31,
   "id": "7b9de52b",
   "metadata": {},
   "outputs": [
    {
     "name": "stdout",
     "output_type": "stream",
     "text": [
      "今のnodeは33で動ける箇所は[(34, 1), (32, 3), (223, 0)]\n",
      "今のnodeは223で動ける箇所は[(224, 0), (33, 4)]\n",
      "今のnodeは224で動ける箇所は[(225, 0), (223, 4)]\n",
      "今のnodeは225で動ける箇所は[(226, 0), (224, 4)]\n",
      "今のnodeは226で動ける箇所は[(227, 0), (225, 4)]\n",
      "今のnodeは227で動ける箇所は[(228, 0), (226, 4)]\n",
      "今のnodeは228で動ける箇所は[(229, 0), (227, 4)]\n",
      "今のnodeは229で動ける箇所は[(230, 0), (228, 4)]\n",
      "今のnodeは230で動ける箇所は[(231, 0), (229, 4)]\n",
      "今のnodeは231で動ける箇所は[(232, 0), (230, 4)]\n",
      "今のnodeは232で動ける箇所は[(233, 0), (231, 4)]\n",
      "今のnodeは233で動ける箇所は[(234, 0), (232, 4)]\n",
      "今のnodeは234で動ける箇所は[(235, 0), (233, 4)]\n",
      "今のnodeは235で動ける箇所は[(236, 0), (234, 4)]\n",
      "今のnodeは236で動ける箇所は[(237, 0), (235, 4)]\n",
      "今のnodeは237で動ける箇所は[(238, 0), (236, 4)]\n",
      "今のnodeは238で動ける箇所は[(239, 0), (237, 4)]\n",
      "今のnodeは239で動ける箇所は[(240, 0), (238, 4)]\n",
      "今のnodeは240で動ける箇所は[(241, 0), (239, 4)]\n",
      "今のnodeは241で動ける箇所は[(242, 0), (240, 4)]\n",
      "今のnodeは242で動ける箇所は[(243, 0), (241, 4)]\n",
      "今のnodeは243で動ける箇所は[(244, 0), (242, 4)]\n",
      "今のnodeは244で動ける箇所は[(245, 0), (243, 4)]\n",
      "今のnodeは245で動ける箇所は[(322, 1), (1141, 3), (246, 0), (244, 4)]\n",
      "今のnodeは246で動ける箇所は[(247, 0), (245, 4)]\n",
      "今のnodeは247で動ける箇所は[(248, 0), (246, 4)]\n",
      "今のnodeは248で動ける箇所は[(249, 0), (247, 4)]\n",
      "今のnodeは249で動ける箇所は[(250, 0), (248, 4)]\n",
      "今のnodeは250で動ける箇所は[(251, 0), (249, 4)]\n",
      "今のnodeは251で動ける箇所は[(252, 0), (250, 4)]\n",
      "今のnodeは252で動ける箇所は[(253, 0), (251, 4)]\n",
      "今のnodeは253で動ける箇所は[(254, 0), (252, 4)]\n",
      "今のnodeは254で動ける箇所は[(255, 0), (253, 4)]\n",
      "今のnodeは255で動ける箇所は[(256, 0), (254, 4)]\n",
      "今のnodeは256で動ける箇所は[(257, 0), (255, 4)]\n",
      "今のnodeは257で動ける箇所は[(258, 0), (256, 4)]\n",
      "今のnodeは258で動ける箇所は[(1217, 3), (259, 0), (257, 4)]\n",
      "今のnodeは259で動ける箇所は[(260, 0), (258, 4)]\n",
      "今のnodeは260で動ける箇所は[(261, 0), (259, 4)]\n",
      "今のnodeは261で動ける箇所は[(262, 0), (260, 4)]\n",
      "今のnodeは262で動ける箇所は[(263, 0), (261, 4)]\n",
      "今のnodeは263で動ける箇所は[(264, 0), (262, 4)]\n",
      "今のnodeは264で動ける箇所は[(421, 1), (265, 0), (263, 4)]\n",
      "今のnodeは265で動ける箇所は[(266, 0), (264, 4)]\n",
      "今のnodeは266で動ける箇所は[(267, 0), (265, 4)]\n",
      "今のnodeは267で動ける箇所は[(268, 0), (266, 4)]\n",
      "今のnodeは268で動ける箇所は[(269, 0), (267, 4)]\n",
      "今のnodeは269で動ける箇所は[(270, 0), (268, 4)]\n",
      "今のnodeは270で動ける箇所は[(271, 0), (269, 4)]\n",
      "今のnodeは271で動ける箇所は[(272, 0), (270, 4)]\n",
      "今のnodeは272で動ける箇所は[(273, 0), (271, 4)]\n",
      "今のnodeは273で動ける箇所は[(274, 0), (272, 4)]\n",
      "今のnodeは274で動ける箇所は[(275, 0), (273, 4)]\n",
      "今のnodeは275で動ける箇所は[(276, 0), (274, 4)]\n",
      "今のnodeは276で動ける箇所は[(277, 0), (275, 4)]\n",
      "今のnodeは277で動ける箇所は[(278, 0), (276, 4)]\n",
      "今のnodeは278で動ける箇所は[(279, 0), (277, 4)]\n",
      "今のnodeは279で動ける箇所は[(280, 0), (278, 4)]\n",
      "今のnodeは280で動ける箇所は[(281, 0), (279, 4)]\n",
      "今のnodeは281で動ける箇所は[(282, 0), (280, 4)]\n",
      "今のnodeは282で動ける箇所は[(283, 0), (281, 4)]\n",
      "今のnodeは283で動ける箇所は[(284, 0), (282, 4)]\n",
      "今のnodeは284で動ける箇所は[(285, 0), (283, 4)]\n",
      "今のnodeは285で動ける箇所は[(286, 0), (284, 4)]\n",
      "今のnodeは286で動ける箇所は[(287, 0), (285, 4)]\n",
      "今のnodeは287で動ける箇所は[(288, 0), (286, 4)]\n",
      "今のnodeは288で動ける箇所は[(289, 0), (287, 4)]\n",
      "今のnodeは289で動ける箇所は[(290, 0), (288, 4)]\n",
      "今のnodeは290で動ける箇所は[(291, 0), (289, 4)]\n",
      "今のnodeは291で動ける箇所は[(292, 0), (290, 4)]\n",
      "今のnodeは292で動ける箇所は[(293, 0), (291, 4)]\n",
      "今のnodeは293で動ける箇所は[(294, 0), (292, 4)]\n",
      "今のnodeは294で動ける箇所は[(295, 0), (293, 4)]\n",
      "今のnodeは295で動ける箇所は[(296, 0), (294, 4)]\n",
      "今のnodeは296で動ける箇所は[(297, 0), (295, 4)]\n",
      "今のnodeは297で動ける箇所は[(298, 0), (296, 4)]\n",
      "今のnodeは298で動ける箇所は[(299, 0), (297, 4)]\n",
      "今のnodeは299で動ける箇所は[(300, 0), (298, 4)]\n",
      "今のnodeは300で動ける箇所は[(301, 0), (299, 4)]\n",
      "今のnodeは301で動ける箇所は[(302, 0), (300, 4)]\n",
      "今のnodeは302で動ける箇所は[(303, 0), (301, 4)]\n",
      "今のnodeは303で動ける箇所は[(304, 0), (302, 4)]\n",
      "今のnodeは304で動ける箇所は[(305, 0), (303, 4)]\n",
      "今のnodeは305で動ける箇所は[(306, 0), (304, 4)]\n",
      "今のnodeは306で動ける箇所は[(307, 0), (305, 4)]\n",
      "今のnodeは307で動ける箇所は[(308, 0), (306, 4)]\n",
      "今のnodeは308で動ける箇所は[(309, 0), (307, 4)]\n",
      "今のnodeは309で動ける箇所は[(310, 0), (308, 4)]\n",
      "今のnodeは310で動ける箇所は[(311, 0), (309, 4)]\n",
      "今のnodeは311で動ける箇所は[(312, 0), (310, 4)]\n",
      "今のnodeは312で動ける箇所は[(313, 0), (311, 4)]\n",
      "今のnodeは313で動ける箇所は[(314, 0), (312, 4)]\n",
      "今のnodeは314で動ける箇所は[(315, 0), (313, 4)]\n",
      "今のnodeは315で動ける箇所は[(316, 0), (314, 4)]\n",
      "今のnodeは316で動ける箇所は[(317, 0), (315, 4)]\n",
      "今のnodeは317で動ける箇所は[(318, 0), (316, 4)]\n",
      "今のnodeは318で動ける箇所は[(319, 0), (317, 4)]\n",
      "今のnodeは319で動ける箇所は[(320, 0), (318, 4)]\n",
      "今のnodeは320で動ける箇所は[(321, 0), (319, 4)]\n"
     ]
    }
   ],
   "source": [
    "pictures = []\n",
    "# next_image, next_node, next_moveable_nodes = return_image_and_moveable_node(\"001257_0.jpg\", 1)\n",
    "\n",
    "next_image = \"000033_0.jpg\"\n",
    "\n",
    "for i in range(99):\n",
    "    next_image, next_node, next_moveable_nodes = return_image_and_moveable_node(next_image, 0)"
   ]
  },
  {
   "cell_type": "code",
   "execution_count": 32,
   "id": "c3c93ef9",
   "metadata": {},
   "outputs": [],
   "source": [
    "pictures[0].save('anime.gif',save_all=True, append_images=pictures[1:], optimize=False, duration=500, loop=0)"
   ]
  },
  {
   "cell_type": "code",
   "execution_count": null,
   "id": "5a8009b9",
   "metadata": {},
   "outputs": [],
   "source": []
  }
 ],
 "metadata": {
  "kernelspec": {
   "display_name": "Python 3 (ipykernel)",
   "language": "python",
   "name": "python3"
  },
  "language_info": {
   "codemirror_mode": {
    "name": "ipython",
    "version": 3
   },
   "file_extension": ".py",
   "mimetype": "text/x-python",
   "name": "python",
   "nbconvert_exporter": "python",
   "pygments_lexer": "ipython3",
   "version": "3.9.7"
  }
 },
 "nbformat": 4,
 "nbformat_minor": 5
}
