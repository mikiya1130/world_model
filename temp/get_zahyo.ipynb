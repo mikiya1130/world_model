{
 "cells": [
  {
   "cell_type": "code",
   "execution_count": 1,
   "id": "ebf8f12f",
   "metadata": {},
   "outputs": [
    {
     "name": "stdout",
     "output_type": "stream",
     "text": [
      "Using matplotlib backend: Qt5Agg\n"
     ]
    },
    {
     "data": {
      "text/plain": [
       "'%.6f'"
      ]
     },
     "execution_count": 1,
     "metadata": {},
     "output_type": "execute_result"
    }
   ],
   "source": [
    "import numpy as np\n",
    "import pandas as pd\n",
    "import matplotlib.pyplot as plt\n",
    "from scipy.spatial import distance\n",
    "\n",
    "%matplotlib\n",
    "pd.options.display.max_rows = 100\n",
    "\n",
    "%precision 6"
   ]
  },
  {
   "cell_type": "code",
   "execution_count": 2,
   "id": "70a1bfb8",
   "metadata": {},
   "outputs": [],
   "source": [
    "data = pd.read_csv('all_.csv', index_col=0)"
   ]
  },
  {
   "cell_type": "code",
   "execution_count": 3,
   "id": "0a4f524b",
   "metadata": {},
   "outputs": [
    {
     "data": {
      "text/html": [
       "<div>\n",
       "<style scoped>\n",
       "    .dataframe tbody tr th:only-of-type {\n",
       "        vertical-align: middle;\n",
       "    }\n",
       "\n",
       "    .dataframe tbody tr th {\n",
       "        vertical-align: top;\n",
       "    }\n",
       "\n",
       "    .dataframe thead th {\n",
       "        text-align: right;\n",
       "    }\n",
       "</style>\n",
       "<table border=\"1\" class=\"dataframe\">\n",
       "  <thead>\n",
       "    <tr style=\"text-align: right;\">\n",
       "      <th></th>\n",
       "      <th>latitude</th>\n",
       "      <th>longtitude</th>\n",
       "      <th>compass_direction</th>\n",
       "      <th>x</th>\n",
       "      <th>y</th>\n",
       "      <th>z</th>\n",
       "    </tr>\n",
       "  </thead>\n",
       "  <tbody>\n",
       "    <tr>\n",
       "      <th>0</th>\n",
       "      <td>28.543893</td>\n",
       "      <td>-81.381796</td>\n",
       "      <td>359.27</td>\n",
       "      <td>837859.801928</td>\n",
       "      <td>-5.528210e+06</td>\n",
       "      <td>3.041400e+06</td>\n",
       "    </tr>\n",
       "    <tr>\n",
       "      <th>1</th>\n",
       "      <td>28.544009</td>\n",
       "      <td>-81.381796</td>\n",
       "      <td>2.77</td>\n",
       "      <td>837858.879219</td>\n",
       "      <td>-5.528204e+06</td>\n",
       "      <td>3.041411e+06</td>\n",
       "    </tr>\n",
       "    <tr>\n",
       "      <th>2</th>\n",
       "      <td>28.544141</td>\n",
       "      <td>-81.381795</td>\n",
       "      <td>2.49</td>\n",
       "      <td>837857.925720</td>\n",
       "      <td>-5.528197e+06</td>\n",
       "      <td>3.041424e+06</td>\n",
       "    </tr>\n",
       "    <tr>\n",
       "      <th>3</th>\n",
       "      <td>28.544276</td>\n",
       "      <td>-81.381794</td>\n",
       "      <td>2.21</td>\n",
       "      <td>837856.948354</td>\n",
       "      <td>-5.528190e+06</td>\n",
       "      <td>3.041437e+06</td>\n",
       "    </tr>\n",
       "    <tr>\n",
       "      <th>4</th>\n",
       "      <td>28.544411</td>\n",
       "      <td>-81.381794</td>\n",
       "      <td>1.93</td>\n",
       "      <td>837855.874497</td>\n",
       "      <td>-5.528183e+06</td>\n",
       "      <td>3.041450e+06</td>\n",
       "    </tr>\n",
       "    <tr>\n",
       "      <th>...</th>\n",
       "      <td>...</td>\n",
       "      <td>...</td>\n",
       "      <td>...</td>\n",
       "      <td>...</td>\n",
       "      <td>...</td>\n",
       "      <td>...</td>\n",
       "    </tr>\n",
       "    <tr>\n",
       "      <th>1319</th>\n",
       "      <td>28.540002</td>\n",
       "      <td>-81.374361</td>\n",
       "      <td>2.27</td>\n",
       "      <td>838608.139326</td>\n",
       "      <td>-5.528305e+06</td>\n",
       "      <td>3.041020e+06</td>\n",
       "    </tr>\n",
       "    <tr>\n",
       "      <th>1320</th>\n",
       "      <td>28.540117</td>\n",
       "      <td>-81.374364</td>\n",
       "      <td>1.98</td>\n",
       "      <td>838606.934442</td>\n",
       "      <td>-5.528299e+06</td>\n",
       "      <td>3.041031e+06</td>\n",
       "    </tr>\n",
       "    <tr>\n",
       "      <th>1321</th>\n",
       "      <td>28.540223</td>\n",
       "      <td>-81.374366</td>\n",
       "      <td>1.70</td>\n",
       "      <td>838605.897683</td>\n",
       "      <td>-5.528294e+06</td>\n",
       "      <td>3.041042e+06</td>\n",
       "    </tr>\n",
       "    <tr>\n",
       "      <th>1322</th>\n",
       "      <td>28.540324</td>\n",
       "      <td>-81.374368</td>\n",
       "      <td>1.42</td>\n",
       "      <td>838604.900723</td>\n",
       "      <td>-5.528288e+06</td>\n",
       "      <td>3.041052e+06</td>\n",
       "    </tr>\n",
       "    <tr>\n",
       "      <th>1323</th>\n",
       "      <td>28.540431</td>\n",
       "      <td>-81.374370</td>\n",
       "      <td>1.14</td>\n",
       "      <td>838603.856000</td>\n",
       "      <td>-5.528283e+06</td>\n",
       "      <td>3.041062e+06</td>\n",
       "    </tr>\n",
       "  </tbody>\n",
       "</table>\n",
       "<p>1324 rows × 6 columns</p>\n",
       "</div>"
      ],
      "text/plain": [
       "       latitude  longtitude  compass_direction              x             y  \\\n",
       "0     28.543893  -81.381796             359.27  837859.801928 -5.528210e+06   \n",
       "1     28.544009  -81.381796               2.77  837858.879219 -5.528204e+06   \n",
       "2     28.544141  -81.381795               2.49  837857.925720 -5.528197e+06   \n",
       "3     28.544276  -81.381794               2.21  837856.948354 -5.528190e+06   \n",
       "4     28.544411  -81.381794               1.93  837855.874497 -5.528183e+06   \n",
       "...         ...         ...                ...            ...           ...   \n",
       "1319  28.540002  -81.374361               2.27  838608.139326 -5.528305e+06   \n",
       "1320  28.540117  -81.374364               1.98  838606.934442 -5.528299e+06   \n",
       "1321  28.540223  -81.374366               1.70  838605.897683 -5.528294e+06   \n",
       "1322  28.540324  -81.374368               1.42  838604.900723 -5.528288e+06   \n",
       "1323  28.540431  -81.374370               1.14  838603.856000 -5.528283e+06   \n",
       "\n",
       "                 z  \n",
       "0     3.041400e+06  \n",
       "1     3.041411e+06  \n",
       "2     3.041424e+06  \n",
       "3     3.041437e+06  \n",
       "4     3.041450e+06  \n",
       "...            ...  \n",
       "1319  3.041020e+06  \n",
       "1320  3.041031e+06  \n",
       "1321  3.041042e+06  \n",
       "1322  3.041052e+06  \n",
       "1323  3.041062e+06  \n",
       "\n",
       "[1324 rows x 6 columns]"
      ]
     },
     "execution_count": 3,
     "metadata": {},
     "output_type": "execute_result"
    }
   ],
   "source": [
    "data"
   ]
  },
  {
   "cell_type": "code",
   "execution_count": 4,
   "id": "ea5def06",
   "metadata": {},
   "outputs": [
    {
     "data": {
      "text/plain": [
       "<matplotlib.collections.PathCollection at 0x21ad71d1730>"
      ]
     },
     "execution_count": 4,
     "metadata": {},
     "output_type": "execute_result"
    }
   ],
   "source": [
    "plt.scatter(data['latitude'], data['longtitude'])"
   ]
  },
  {
   "cell_type": "code",
   "execution_count": 5,
   "id": "8c43a356",
   "metadata": {},
   "outputs": [],
   "source": [
    "latitude = list(data['latitude'])\n",
    "longtitude = list(data['longtitude'])"
   ]
  },
  {
   "cell_type": "code",
   "execution_count": 6,
   "id": "c9b52faa",
   "metadata": {},
   "outputs": [
    {
     "name": "stdout",
     "output_type": "stream",
     "text": [
      "1324\n",
      "1324\n"
     ]
    }
   ],
   "source": [
    "print(len(latitude))\n",
    "print(len(longtitude))\n",
    "N = 1324"
   ]
  },
  {
   "cell_type": "code",
   "execution_count": 9,
   "id": "639e7e9a",
   "metadata": {},
   "outputs": [
    {
     "data": {
      "text/plain": [
       "8"
      ]
     },
     "execution_count": 9,
     "metadata": {},
     "output_type": "execute_result"
    },
    {
     "name": "stdout",
     "output_type": "stream",
     "text": [
      "948,\n",
      "987,\n",
      "471,\n",
      "372,\n",
      "971,\n"
     ]
    }
   ],
   "source": [
    "'''\n",
    "使い方\n",
    "左クリックで座標を合わせ、あったところのindexを返す\n",
    "\n",
    "'''\n",
    "\n",
    "\n",
    "plt.rcParams['font.size']=14\n",
    "\n",
    "class SnaptoCursor(object):\n",
    "    \"\"\"\n",
    "    十字カーソルを現在のカーソルのｘ値から最も近いxの点に飛ばす。\n",
    "    \"\"\"\n",
    "\n",
    "    def __init__(self, ax, x, y):\n",
    "        self.ax = ax\n",
    "        self.lx = ax.axhline(color='g')  # the horiz line\n",
    "        self.ly = ax.axvline(color='g')  # the vert line\n",
    "        self.x = x\n",
    "        self.y = y\n",
    "        # location of point\n",
    "\n",
    "        \n",
    "    def mouse_move(self, event):\n",
    "        if not event.inaxes:\n",
    "                return\n",
    "        if event.button == 1: #左クリック\n",
    "            click_x, click_y = event.xdata, event.ydata\n",
    "            click_zahyo = [click_x, click_y]\n",
    "            min_dist = 10**18\n",
    "            index = float('inf')\n",
    "            \n",
    "            for _index in range(N):\n",
    "                data_zhayo = [self.x[_index], self.y[_index]]\n",
    "                temp_dist = distance.euclidean(click_zahyo, data_zhayo)\n",
    "                if min_dist >= temp_dist:\n",
    "                    min_dist = temp_dist\n",
    "                    index = _index\n",
    "            \n",
    "            x = self.x[index]\n",
    "            y = self.y[index]\n",
    "            self.lx.set_ydata(y)\n",
    "            self.ly.set_xdata(x)\n",
    "            self.ax.figure.canvas.draw()\n",
    "            print(f'{index},')\n",
    "            \n",
    "#         elif event.button == 3: # 右クリック\n",
    "#             print('[%f, %f],' % (event.xdata, event.ydata))\n",
    "        \n",
    "\n",
    "\n",
    "fig,ax = plt.subplots(figsize=(8, 6))\n",
    "ax.set_xlim([28.547, 28.556])\n",
    "ax.set_ylim([-81.382021, -81.374])\n",
    "x, y = latitude, longtitude\n",
    "[ax.plot(x[i], y[i], 'o', mew=1, mec='k', ms=5) for i in range(len(x))]\n",
    "snap_cursor = SnaptoCursor(ax, x, y)\n",
    "fig.canvas.mpl_connect('button_press_event' , snap_cursor.mouse_move)"
   ]
  },
  {
   "cell_type": "code",
   "execution_count": 20,
   "id": "333cb953",
   "metadata": {},
   "outputs": [
    {
     "data": {
      "text/plain": [
       "(-81.382021, -81.374000)"
      ]
     },
     "execution_count": 20,
     "metadata": {},
     "output_type": "execute_result"
    }
   ],
   "source": [
    "ax.set_xlim([28.535, 28.5450])\n",
    "ax.set_ylim([-81.382021, -81.374])\n",
    "\n",
    "ax.set_xlim([28.543, 28.55])\n",
    "ax.set_ylim([-81.382021, -81.374])\n",
    "\n",
    "ax.set_xlim([28.547, 28.556])\n",
    "ax.set_ylim([-81.382021, -81.374])\n",
    "\n",
    "ax.set_xlim([28.547, 28.558])\n",
    "ax.set_ylim([-81.382021, -81.374])"
   ]
  },
  {
   "cell_type": "code",
   "execution_count": 23,
   "id": "1240781e",
   "metadata": {},
   "outputs": [],
   "source": [
    "def north_img_num(dir):\n",
    "    if dir < 50 or 300 < dir:\n",
    "        return 4\n",
    "    elif 50 < dir < 150:\n",
    "        return 3\n",
    "    else:\n",
    "        return 2\n",
    "\n",
    "df_direction = pd.DataFrame(index=data.index, columns=['north', 'west', 'south', 'east'])\n",
    "df_direction['north'] = data['compass_direction'].map(north_img_num)\n",
    "df_direction['west'] = df_direction['north'].map(lambda x: (x + 2) % 4 + 1)\n",
    "df_direction['south'] = df_direction['north'].map(lambda x: (x + 1) % 4 + 1)\n",
    "df_direction['east'] = df_direction['north'].map(lambda x: (x) % 4 + 1)\n",
    "df_group_1_with_dir_num = data.join(df_direction)\n",
    "# df_group_1_with_dir_num.plot.scatter(x='latitude', y='longtitude', s=2, c='north', colormap='rainbow')"
   ]
  },
  {
   "cell_type": "code",
   "execution_count": null,
   "id": "f6e7da5a",
   "metadata": {},
   "outputs": [],
   "source": []
  },
  {
   "cell_type": "code",
   "execution_count": 24,
   "id": "01c467ea",
   "metadata": {},
   "outputs": [],
   "source": [
    "group_1 = df_direction[df_direction['north']==4]"
   ]
  },
  {
   "cell_type": "code",
   "execution_count": 25,
   "id": "ebe26fd0",
   "metadata": {},
   "outputs": [],
   "source": [
    "group_2 = df_direction[df_direction['north']==3]"
   ]
  },
  {
   "cell_type": "code",
   "execution_count": 26,
   "id": "20836afe",
   "metadata": {},
   "outputs": [],
   "source": [
    "group_3 = df_direction[df_direction['north']==2]"
   ]
  },
  {
   "cell_type": "code",
   "execution_count": 27,
   "id": "c90533ff",
   "metadata": {},
   "outputs": [
    {
     "name": "stdout",
     "output_type": "stream",
     "text": [
      "True\n"
     ]
    }
   ],
   "source": [
    "print(len(data)==len(group_1)+len(group_2)+len(group_3))"
   ]
  },
  {
   "cell_type": "code",
   "execution_count": 28,
   "id": "3848cf71",
   "metadata": {},
   "outputs": [
    {
     "name": "stdout",
     "output_type": "stream",
     "text": [
      "4255,\n",
      "4255,\n"
     ]
    }
   ],
   "source": [
    "group_1 = list(group_1.index)\n",
    "group_2 = list(group_2.index)\n",
    "group_3 = list(group_3.index)"
   ]
  },
  {
   "cell_type": "code",
   "execution_count": null,
   "id": "1822a9c5",
   "metadata": {},
   "outputs": [],
   "source": []
  },
  {
   "cell_type": "code",
   "execution_count": null,
   "id": "84c0515b",
   "metadata": {},
   "outputs": [],
   "source": []
  },
  {
   "cell_type": "code",
   "execution_count": null,
   "id": "de4949d9",
   "metadata": {},
   "outputs": [],
   "source": []
  },
  {
   "cell_type": "code",
   "execution_count": null,
   "id": "100c38df",
   "metadata": {},
   "outputs": [],
   "source": []
  },
  {
   "cell_type": "code",
   "execution_count": null,
   "id": "03507a8f",
   "metadata": {},
   "outputs": [],
   "source": []
  }
 ],
 "metadata": {
  "kernelspec": {
   "display_name": "Python 3 (ipykernel)",
   "language": "python",
   "name": "python3"
  },
  "language_info": {
   "codemirror_mode": {
    "name": "ipython",
    "version": 3
   },
   "file_extension": ".py",
   "mimetype": "text/x-python",
   "name": "python",
   "nbconvert_exporter": "python",
   "pygments_lexer": "ipython3",
   "version": "3.9.7"
  }
 },
 "nbformat": 4,
 "nbformat_minor": 5
}
