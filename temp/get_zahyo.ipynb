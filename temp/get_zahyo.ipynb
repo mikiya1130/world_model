{
 "cells": [
  {
   "cell_type": "code",
   "execution_count": 8,
   "id": "ebf8f12f",
   "metadata": {},
   "outputs": [
    {
     "name": "stdout",
     "output_type": "stream",
     "text": [
      "Using matplotlib backend: Qt5Agg\n"
     ]
    }
   ],
   "source": [
    "import numpy as np\n",
    "import pandas as pd\n",
    "import matplotlib.pyplot as plt\n",
    "\n",
    "%matplotlib\n",
    "pd.options.display.max_rows = 100"
   ]
  },
  {
   "cell_type": "code",
   "execution_count": 4,
   "id": "70a1bfb8",
   "metadata": {},
   "outputs": [],
   "source": [
    "df = pd.read_csv('all.csv', index_col=0)\n",
    "data = df[3079:4402]"
   ]
  },
  {
   "cell_type": "code",
   "execution_count": 7,
   "id": "5c7cae6c",
   "metadata": {},
   "outputs": [],
   "source": [
    "latitude = list(data['latitude'])\n",
    "longtitude = list(data['longtitude'])"
   ]
  },
  {
   "cell_type": "code",
   "execution_count": 11,
   "id": "639e7e9a",
   "metadata": {},
   "outputs": [
    {
     "data": {
      "text/plain": [
       "8"
      ]
     },
     "execution_count": 11,
     "metadata": {},
     "output_type": "execute_result"
    }
   ],
   "source": [
    "'''\n",
    "使い方\n",
    "左クリックで座標を合わせる\n",
    "右クリックで座標をプリント\n",
    "x軸の座標だけで調節してます。なので少し使いにくいです。\n",
    "\n",
    "'''\n",
    "\n",
    "\n",
    "plt.rcParams['font.size']=14\n",
    "\n",
    "class SnaptoCursor(object):\n",
    "    \"\"\"\n",
    "    十字カーソルを現在のカーソルのｘ値から最も近いxの点に飛ばす。\n",
    "    \"\"\"\n",
    "\n",
    "    def __init__(self, ax, x, y):\n",
    "        self.ax = ax\n",
    "        self.lx = ax.axhline(color='g')  # the horiz line\n",
    "        self.ly = ax.axvline(color='g')  # the vert line\n",
    "        self.x = x\n",
    "        self.y = y\n",
    "        # location of point\n",
    "\n",
    "        \n",
    "    def mouse_move(self, event):\n",
    "        if not event.inaxes:\n",
    "                return\n",
    "        if event.button == 1: #左クリック\n",
    "            plt.title(\"double click\")\n",
    "            x, y = event.xdata, event.ydata\n",
    "            indx_x = np.argmin(np.abs(self.x-x))\n",
    "            indx_y = np.argmin(np.abs(self.y-y))\n",
    "            x = self.x[indx_x]\n",
    "            y = self.y[indx_x]\n",
    "            # update the line positions\n",
    "            self.lx.set_ydata(y)\n",
    "            self.ly.set_xdata(x)\n",
    "            #update title\n",
    "            self.ax.set_title('x=%1.6f, y=%1.6f' % (x, y))\n",
    "            self.ax.figure.canvas.draw()\n",
    "        elif event.button == 3:\n",
    "            print('x=%d, y=%d, xdata=%f, ydata=%f' %\n",
    "              (event.x, event.y, event.xdata, event.ydata))\n",
    "        \n",
    "\n",
    "\n",
    "fig,ax = plt.subplots(figsize=(8, 6))\n",
    "ax.set_xlim([28.540, 28.5450])\n",
    "ax.set_ylim([-81.3756, -81.382021])\n",
    "x, y = latitude, longtitude\n",
    "[ax.plot(x[i], y[i], 'o', mew=1, mec='k', ms=5) for i in range(len(x))]\n",
    "snap_cursor = SnaptoCursor(ax, x, y)\n",
    "fig.canvas.mpl_connect('button_press_event' , snap_cursor.mouse_move)"
   ]
  },
  {
   "cell_type": "code",
   "execution_count": null,
   "id": "1240781e",
   "metadata": {},
   "outputs": [],
   "source": []
  }
 ],
 "metadata": {
  "kernelspec": {
   "display_name": "Python 3 (ipykernel)",
   "language": "python",
   "name": "python3"
  },
  "language_info": {
   "codemirror_mode": {
    "name": "ipython",
    "version": 3
   },
   "file_extension": ".py",
   "mimetype": "text/x-python",
   "name": "python",
   "nbconvert_exporter": "python",
   "pygments_lexer": "ipython3",
   "version": "3.9.7"
  }
 },
 "nbformat": 4,
 "nbformat_minor": 5
}
